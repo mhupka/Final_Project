{
 "cells": [
  {
   "cell_type": "code",
   "execution_count": 1,
   "id": "b0d55bbf",
   "metadata": {},
   "outputs": [],
   "source": [
    "import numpy as np\n",
    "import matplotlib.pyplot as plt\n",
    "import math\n",
    "%matplotlib inline\n",
    "# let's set things up so we have nice font sizes\n",
    "plt.rcParams.update({'font.size': 12})"
   ]
  },
  {
   "cell_type": "code",
   "execution_count": 2,
   "id": "fd5d7b98",
   "metadata": {},
   "outputs": [],
   "source": [
    "def RossModified(initial_conditions, params, t):\n",
    "\n",
    "    # Bring in the initial conditions\n",
    "    I0, Im0, Ihv0, Shv0, S0 = initial_conditions\n",
    "    # Initialize solution lists/vectors\n",
    "    I, Im, Ihv, Shv, S = [I0], [Im0], [Ihv0], [Shv0], [S0]\n",
    "    # Bring in parameters\n",
    "    a, b, c, m, r, u2, VE= params\n",
    "    # Learn the timestep from the time vector\n",
    "    dt = t[1] - t[0]\n",
    "    \n",
    "    # Euler\n",
    "    for _ in t[1:]:\n",
    "        Iht = I[-1] + (a*b*m*Im[-1]*S[-1]-r*I[-1])* dt\n",
    "        Sht = S[-1] + (-a*b*m*Im[-1]*S[-1]+r*I[-1]) * dt\n",
    "        \n",
    "        Ihvt = Ihv[-1] + (a*b*(1-VE)*m*Im[-1]*Shv[-1]-r*Ihv[-1])* dt\n",
    "        Shvt = Shv[-1] + (-a*b*(1-VE)*m*Im[-1]*Shv[-1]+r*Ihv[-1]) * dt     \n",
    "        \n",
    "        Imt = Im[-1]+ (a*c*I[-1]*(1-Im[-1])-u2*Im[-1])* dt\n",
    "\n",
    "        I.append(Iht)\n",
    "        S.append(Sht)\n",
    "        Ihv.append(Ihvt)\n",
    "        Shv.append(Shvt)\n",
    "        Im.append(Imt)\n",
    "    # Return the results\n",
    "    return I, Im, Ihv, S, Shv"
   ]
  },
  {
   "cell_type": "code",
   "execution_count": 41,
   "id": "a5c20f93",
   "metadata": {},
   "outputs": [],
   "source": [
    "# Population size\n",
    "N=1002\n",
    "\n",
    "# ONE YEAR of timesteps in days\n",
    "t_max = 60\n",
    "dt = 0.0001\n",
    "t = np.linspace(0, t_max, int(t_max/dt) + 1)\n",
    "\n",
    "# SIR Parameters\n",
    "\n",
    "a = 0.2 # Man biting rate [0.01-0.5 per day]\n",
    "b = 0.3 # proportion of bites that result in an infection [0.2-0.5]\n",
    "c = 0.5 # proportion of bites that result in an infected mosqito (0.5)\n",
    "m = 15 # ratio of mosqitos to humans  [0.5-40]\n",
    "r = 0.01 # average recovery rate of humans [0.005-0.05 per day]\n",
    "u2 = 0.3 # per capita rate of mosqito mortality [0.05-0.5 per day]\n",
    "VE = 0.39 # vaccine effectiveness \n",
    "\n",
    "\n",
    "params = a, b, c, m, r, u2, VE\n",
    "\n",
    "# Initial Conditions\n",
    "I0=1\n",
    "S0 = 600\n",
    "Im0=1/N\n",
    "Shv0 = 400\n",
    "Ihv0=1\n",
    "\n",
    "# Run the simulation\n",
    "results = RossModified((I0,Im0, Ihv0, Shv0, S0), params, t)\n",
    "\n",
    "I,Im, Ihv, Shv, S = results"
   ]
  },
  {
   "cell_type": "code",
   "execution_count": 42,
   "id": "b2fb406f",
   "metadata": {},
   "outputs": [
    {
     "data": {
      "image/png": "[encoded data removed]",
      "text/plain": [
       "<Figure size 432x288 with 1 Axes>"
      ]
     },
     "metadata": {
      "needs_background": "light"
     },
     "output_type": "display_data"
    }
   ],
   "source": [
    "colors = {\n",
    "    'I':'b',\n",
    "    'Ihv':'g'}\n",
    "\n",
    "# Set up the axes\n",
    "fig, ax = plt.subplots(nrows=1,ncols=1)\n",
    "ax.plot(t,I,label='Infected Unvaccinated',color=colors['I'])\n",
    "ax.plot(t,Ihv,label='Infected Vaccinated',color=colors['Ihv'])\n",
    "\n",
    "# Make the plot attractive\n",
    "ax.legend(loc='best')\n",
    "ax.set_xlim(left=0)\n",
    "ax.set_ylim(bottom=0)\n",
    "ax.set_xlabel('time (days)')\n",
    "ax.set_ylabel('Population')\n",
    "\n",
    "plt.tight_layout()\n",
    "\n",
    "# Uncomment this line to save your figure as a PNG.\n",
    "# plt.savefig('figure_name_here.png',dpi=150)"
   ]
  },
  {
   "cell_type": "markdown",
   "id": "02e239f7",
   "metadata": {},
   "source": [
    "# R0 Equations: Different Vaccine Efficacies"
   ]
  },
  {
   "cell_type": "code",
   "execution_count": 7,
   "id": "43042972",
   "metadata": {},
   "outputs": [],
   "source": [
    "# Define some variables first\n",
    "Tm = 5 #[5-15 days]\n",
    "u1 = 0.017/365 # 0.017/365 to get per day because it is 0.017 per year\n",
    "Th = 20 #[10-100 day]"
   ]
  },
  {
   "cell_type": "code",
   "execution_count": 8,
   "id": "b23f5012",
   "metadata": {},
   "outputs": [
    {
     "name": "stdout",
     "output_type": "stream",
     "text": [
      "0.0\n"
     ]
    }
   ],
   "source": [
    "VE = 1 # 100% effective vaccine\n",
    "rValue2=((m*(a**2)*b*(1-VE)*c)/(r*u2))*(math.e**(-u2*Tm))*(math.e**(-u1*Th)) # multiplying b*(1-VE)\n",
    "rValue2 =np.round(rValue2, decimals = 2)\n",
    "print(rValue2)"
   ]
  },
  {
   "cell_type": "code",
   "execution_count": 9,
   "id": "b05534aa",
   "metadata": {},
   "outputs": [
    {
     "name": "stdout",
     "output_type": "stream",
     "text": [
      "1.78\n"
     ]
    }
   ],
   "source": [
    "VE = 0.8 # 80% effective\n",
    "rValue2=((m*(a**2)*b*(1-VE)*c)/(r*u2))*(math.e**(-u2*Tm))*(math.e**(-u1*Th)) # multiplying b*(1-VE)\n",
    "rValue2 =np.round(rValue2, decimals = 2)\n",
    "print(rValue2)"
   ]
  },
  {
   "cell_type": "code",
   "execution_count": 10,
   "id": "4af9d389",
   "metadata": {},
   "outputs": [
    {
     "name": "stdout",
     "output_type": "stream",
     "text": [
      "3.57\n"
     ]
    }
   ],
   "source": [
    "VE = 0.6 # 60% effective\n",
    "rValue2=((m*(a**2)*b*(1-VE)*c)/(r*u2))*(math.e**(-u2*Tm))*(math.e**(-u1*Th)) # multiplying b*(1-VE)\n",
    "rValue2 =np.round(rValue2, decimals = 2)\n",
    "print(rValue2)"
   ]
  },
  {
   "cell_type": "code",
   "execution_count": 11,
   "id": "954bb2a9",
   "metadata": {},
   "outputs": [
    {
     "name": "stdout",
     "output_type": "stream",
     "text": [
      "5.44\n"
     ]
    }
   ],
   "source": [
    "VE = 0.39 # 39% effective --> actual effectiveness of RTS,S\n",
    "rValue2=((m*(a**2)*b*(1-VE)*c)/(r*u2))*(math.e**(-u2*Tm))*(math.e**(-u1*Th)) # multiplying b*(1-VE)\n",
    "rValue2 =np.round(rValue2, decimals = 2)\n",
    "print(rValue2)"
   ]
  },
  {
   "cell_type": "markdown",
   "id": "608db56b",
   "metadata": {},
   "source": [
    "# R0 Equations: Different Models"
   ]
  },
  {
   "cell_type": "code",
   "execution_count": 12,
   "id": "22ed5250",
   "metadata": {},
   "outputs": [],
   "source": [
    "a = 0.2 # Man biting rate [0.01-0.5 per day]\n",
    "b = 0.3 # proportion of bites that result in an infection [0.2-0.5]\n",
    "c = 0.5 # proportion of bites that result in an infected mosqito (0.5)\n",
    "m = 20 # ratio of mosqitos to humans  [0.5-40]\n",
    "r = 0.01 # average recovery rate of humans [0.005-0.05 per day]\n",
    "u2 = 0.3 # per capita rate of mosqito mortality [0.05-0.5 per day]\n",
    "VE = 0.39 # vaccine effectiveness "
   ]
  },
  {
   "cell_type": "code",
   "execution_count": 13,
   "id": "d1a924ff",
   "metadata": {},
   "outputs": [
    {
     "name": "stdout",
     "output_type": "stream",
     "text": [
      "40.0\n"
     ]
    }
   ],
   "source": [
    "# R0 Unvaccinated --> Ross Model\n",
    "rValue1=(m*(a**2)*b*c)/(r*u2)\n",
    "rValue1 =np.round(rValue1, decimals = 2)\n",
    "print(rValue1)"
   ]
  },
  {
   "cell_type": "code",
   "execution_count": 14,
   "id": "f8992b56",
   "metadata": {},
   "outputs": [
    {
     "name": "stdout",
     "output_type": "stream",
     "text": [
      "8.93\n"
     ]
    }
   ],
   "source": [
    "# R0 Unvaccinated --> Macdonald\n",
    "Tm = 5 #[5-15 days]\n",
    "rValue1=((m*(a**2)*b*c)/(r*u2))*(math.e**(-u2*Tm))\n",
    "rValue1 =np.round(rValue1, decimals = 2)\n",
    "print(rValue1)"
   ]
  },
  {
   "cell_type": "code",
   "execution_count": 15,
   "id": "686e3f4d",
   "metadata": {},
   "outputs": [
    {
     "name": "stdout",
     "output_type": "stream",
     "text": [
      "8.92\n"
     ]
    }
   ],
   "source": [
    "# R0 Unvaccinated --> Anderson and May Model\n",
    "Tm = 5 #[5-15 days]\n",
    "u1 = 0.017/365 # 0.017/365 to get per day because it is 0.017 per year\n",
    "Th = 20 #[10-100 day]\n",
    "rValue1=((m*(a**2)*b*c)/(r*u2))*(math.e**(-u2*Tm))*(math.e**(-u1*Th))\n",
    "rValue1 =np.round(rValue1, decimals = 2)\n",
    "print(rValue1)"
   ]
  }
 ],
 "metadata": {
  "kernelspec": {
   "display_name": "Python 3 (ipykernel)",
   "language": "python",
   "name": "python3"
  },
  "language_info": {
   "codemirror_mode": {
    "name": "ipython",
    "version": 3
   },
   "file_extension": ".py",
   "mimetype": "text/x-python",
   "name": "python",
   "nbconvert_exporter": "python",
   "pygments_lexer": "ipython3",
   "version": "3.9.7"
  }
 },
 "nbformat": 4,
 "nbformat_minor": 5
}
